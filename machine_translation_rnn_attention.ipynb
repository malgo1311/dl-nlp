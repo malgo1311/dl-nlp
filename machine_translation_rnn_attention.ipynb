{
 "cells": [
  {
   "cell_type": "code",
   "execution_count": 1,
   "metadata": {},
   "outputs": [
    {
     "name": "stderr",
     "output_type": "stream",
     "text": [
      "Using TensorFlow backend.\n",
      "/Users/aishwaryamalgonde/Aishwarya/venv/lib/python3.7/site-packages/tensorflow/python/framework/dtypes.py:516: FutureWarning: Passing (type, 1) or '1type' as a synonym of type is deprecated; in a future version of numpy, it will be understood as (type, (1,)) / '(1,)type'.\n",
      "  _np_qint8 = np.dtype([(\"qint8\", np.int8, 1)])\n",
      "/Users/aishwaryamalgonde/Aishwarya/venv/lib/python3.7/site-packages/tensorflow/python/framework/dtypes.py:517: FutureWarning: Passing (type, 1) or '1type' as a synonym of type is deprecated; in a future version of numpy, it will be understood as (type, (1,)) / '(1,)type'.\n",
      "  _np_quint8 = np.dtype([(\"quint8\", np.uint8, 1)])\n",
      "/Users/aishwaryamalgonde/Aishwarya/venv/lib/python3.7/site-packages/tensorflow/python/framework/dtypes.py:518: FutureWarning: Passing (type, 1) or '1type' as a synonym of type is deprecated; in a future version of numpy, it will be understood as (type, (1,)) / '(1,)type'.\n",
      "  _np_qint16 = np.dtype([(\"qint16\", np.int16, 1)])\n",
      "/Users/aishwaryamalgonde/Aishwarya/venv/lib/python3.7/site-packages/tensorflow/python/framework/dtypes.py:519: FutureWarning: Passing (type, 1) or '1type' as a synonym of type is deprecated; in a future version of numpy, it will be understood as (type, (1,)) / '(1,)type'.\n",
      "  _np_quint16 = np.dtype([(\"quint16\", np.uint16, 1)])\n",
      "/Users/aishwaryamalgonde/Aishwarya/venv/lib/python3.7/site-packages/tensorflow/python/framework/dtypes.py:520: FutureWarning: Passing (type, 1) or '1type' as a synonym of type is deprecated; in a future version of numpy, it will be understood as (type, (1,)) / '(1,)type'.\n",
      "  _np_qint32 = np.dtype([(\"qint32\", np.int32, 1)])\n",
      "/Users/aishwaryamalgonde/Aishwarya/venv/lib/python3.7/site-packages/tensorflow/python/framework/dtypes.py:525: FutureWarning: Passing (type, 1) or '1type' as a synonym of type is deprecated; in a future version of numpy, it will be understood as (type, (1,)) / '(1,)type'.\n",
      "  np_resource = np.dtype([(\"resource\", np.ubyte, 1)])\n",
      "/Users/aishwaryamalgonde/Aishwarya/venv/lib/python3.7/site-packages/tensorboard/compat/tensorflow_stub/dtypes.py:541: FutureWarning: Passing (type, 1) or '1type' as a synonym of type is deprecated; in a future version of numpy, it will be understood as (type, (1,)) / '(1,)type'.\n",
      "  _np_qint8 = np.dtype([(\"qint8\", np.int8, 1)])\n",
      "/Users/aishwaryamalgonde/Aishwarya/venv/lib/python3.7/site-packages/tensorboard/compat/tensorflow_stub/dtypes.py:542: FutureWarning: Passing (type, 1) or '1type' as a synonym of type is deprecated; in a future version of numpy, it will be understood as (type, (1,)) / '(1,)type'.\n",
      "  _np_quint8 = np.dtype([(\"quint8\", np.uint8, 1)])\n",
      "/Users/aishwaryamalgonde/Aishwarya/venv/lib/python3.7/site-packages/tensorboard/compat/tensorflow_stub/dtypes.py:543: FutureWarning: Passing (type, 1) or '1type' as a synonym of type is deprecated; in a future version of numpy, it will be understood as (type, (1,)) / '(1,)type'.\n",
      "  _np_qint16 = np.dtype([(\"qint16\", np.int16, 1)])\n",
      "/Users/aishwaryamalgonde/Aishwarya/venv/lib/python3.7/site-packages/tensorboard/compat/tensorflow_stub/dtypes.py:544: FutureWarning: Passing (type, 1) or '1type' as a synonym of type is deprecated; in a future version of numpy, it will be understood as (type, (1,)) / '(1,)type'.\n",
      "  _np_quint16 = np.dtype([(\"quint16\", np.uint16, 1)])\n",
      "/Users/aishwaryamalgonde/Aishwarya/venv/lib/python3.7/site-packages/tensorboard/compat/tensorflow_stub/dtypes.py:545: FutureWarning: Passing (type, 1) or '1type' as a synonym of type is deprecated; in a future version of numpy, it will be understood as (type, (1,)) / '(1,)type'.\n",
      "  _np_qint32 = np.dtype([(\"qint32\", np.int32, 1)])\n",
      "/Users/aishwaryamalgonde/Aishwarya/venv/lib/python3.7/site-packages/tensorboard/compat/tensorflow_stub/dtypes.py:550: FutureWarning: Passing (type, 1) or '1type' as a synonym of type is deprecated; in a future version of numpy, it will be understood as (type, (1,)) / '(1,)type'.\n",
      "  np_resource = np.dtype([(\"resource\", np.ubyte, 1)])\n"
     ]
    }
   ],
   "source": [
    "import numpy as np\n",
    "\n",
    "from keras.preprocessing.text import Tokenizer\n",
    "from keras.preprocessing.sequence import pad_sequences\n",
    "\n",
    "from keras.layers import Embedding, Input, LSTM, Dense, Bidirectional, Concatenate, RepeatVector, Dot, Lambda\n",
    "from keras.models import Model\n",
    "from keras.optimizers import Adam\n",
    "from keras.activations import softmax\n",
    "\n",
    "import keras.backend as K"
   ]
  },
  {
   "cell_type": "code",
   "execution_count": 2,
   "metadata": {},
   "outputs": [],
   "source": [
    "MAX_VOCAB_SIZE = 3000\n",
    "EMBEDDING_DIM = 50\n",
    "VALIDATION_SPLIT = 0.2\n",
    "NUM_SAMPLES = 1000"
   ]
  },
  {
   "cell_type": "markdown",
   "metadata": {},
   "source": [
    "### Get input data"
   ]
  },
  {
   "cell_type": "code",
   "execution_count": 3,
   "metadata": {
    "scrolled": true
   },
   "outputs": [
    {
     "data": {
      "text/plain": [
       "(1000, 1000, 1000)"
      ]
     },
     "execution_count": 3,
     "metadata": {},
     "output_type": "execute_result"
    }
   ],
   "source": [
    "encoder_input = []\n",
    "\n",
    "decoder_output = []\n",
    "decoder_input = []\n",
    "\n",
    "counter = 0\n",
    "for line in open('data/spa-eng/spa.txt'):\n",
    "    temp_line = line.split('\\t')\n",
    "    if not temp_line:\n",
    "        continue\n",
    "    \n",
    "    input_ = temp_line[0].strip()\n",
    "    translation = temp_line[1].strip()\n",
    "    \n",
    "    encoder_input.append(input_)\n",
    "    \n",
    "    decoder_input.append('<sos> ' + translation)\n",
    "    decoder_output.append(translation + ' <eos>')\n",
    "    \n",
    "    counter += 1\n",
    "    if counter >= NUM_SAMPLES:\n",
    "        break\n",
    "    \n",
    "len(encoder_input), len(decoder_input), len(decoder_output)"
   ]
  },
  {
   "cell_type": "code",
   "execution_count": 4,
   "metadata": {},
   "outputs": [],
   "source": [
    "# decoder_output[:10]"
   ]
  },
  {
   "cell_type": "markdown",
   "metadata": {},
   "source": [
    "### Tokenizing input data"
   ]
  },
  {
   "cell_type": "code",
   "execution_count": 5,
   "metadata": {},
   "outputs": [
    {
     "name": "stdout",
     "output_type": "stream",
     "text": [
      "378\n",
      "379\n"
     ]
    }
   ],
   "source": [
    "## Tokenizing Encoder Data\n",
    "en_tokenizer_ = Tokenizer(num_words=MAX_VOCAB_SIZE)\n",
    "en_tokenizer_.fit_on_texts(encoder_input)\n",
    "\n",
    "## Total number of unique words\n",
    "en_word2ind = en_tokenizer_.word_index\n",
    "print(len(en_word2ind))\n",
    "\n",
    "en_sequences = en_tokenizer_.texts_to_sequences(encoder_input)\n",
    "\n",
    "en_NUM_WORDS = min(len(en_word2ind) + 1, MAX_VOCAB_SIZE)\n",
    "print(en_NUM_WORDS)"
   ]
  },
  {
   "cell_type": "code",
   "execution_count": 6,
   "metadata": {},
   "outputs": [
    {
     "data": {
      "text/plain": [
       "(1000, [182])"
      ]
     },
     "execution_count": 6,
     "metadata": {},
     "output_type": "execute_result"
    }
   ],
   "source": [
    "len(en_sequences), en_sequences[100]"
   ]
  },
  {
   "cell_type": "code",
   "execution_count": 7,
   "metadata": {},
   "outputs": [
    {
     "name": "stdout",
     "output_type": "stream",
     "text": [
      "1014\n",
      "1015\n"
     ]
    }
   ],
   "source": [
    "dec_tokenizer_ = Tokenizer(num_words=MAX_VOCAB_SIZE, filters='')\n",
    "dec_tokenizer_.fit_on_texts(decoder_input + decoder_output)\n",
    "\n",
    "## Total number of unique words\n",
    "dec_word2ind = dec_tokenizer_.word_index\n",
    "print(len(dec_word2ind))\n",
    "\n",
    "dec_out_sequences = dec_tokenizer_.texts_to_sequences(decoder_output)\n",
    "dec_inp_sequences = dec_tokenizer_.texts_to_sequences(decoder_input)\n",
    "\n",
    "dec_NUM_WORDS = min(len(dec_word2ind) + 1, MAX_VOCAB_SIZE)\n",
    "print(dec_NUM_WORDS)"
   ]
  },
  {
   "cell_type": "code",
   "execution_count": 8,
   "metadata": {},
   "outputs": [
    {
     "data": {
      "text/plain": [
       "([121, 2], 'Ve. <eos>')"
      ]
     },
     "execution_count": 8,
     "metadata": {},
     "output_type": "execute_result"
    }
   ],
   "source": [
    "(dec_out_sequences[0], decoder_output[0])"
   ]
  },
  {
   "cell_type": "markdown",
   "metadata": {},
   "source": [
    "### Padding data"
   ]
  },
  {
   "cell_type": "code",
   "execution_count": 9,
   "metadata": {},
   "outputs": [
    {
     "name": "stdout",
     "output_type": "stream",
     "text": [
      "3\n"
     ]
    }
   ],
   "source": [
    "## getting max len\n",
    "MAX_ENC_SEQ_LEN = max([len(s) for s in en_sequences])\n",
    "print(MAX_ENC_SEQ_LEN)\n",
    "\n",
    "en_sequences = pad_sequences(en_sequences, maxlen=MAX_ENC_SEQ_LEN) # default padding='pre'"
   ]
  },
  {
   "cell_type": "code",
   "execution_count": 10,
   "metadata": {},
   "outputs": [
    {
     "data": {
      "text/plain": [
       "array([  0,  41, 242], dtype=int32)"
      ]
     },
     "execution_count": 10,
     "metadata": {},
     "output_type": "execute_result"
    }
   ],
   "source": [
    "en_sequences[998]"
   ]
  },
  {
   "cell_type": "code",
   "execution_count": 11,
   "metadata": {},
   "outputs": [
    {
     "name": "stdout",
     "output_type": "stream",
     "text": [
      "7\n"
     ]
    }
   ],
   "source": [
    "## getting max len\n",
    "MAX_DEC_SEQ_LEN = max([len(s) for s in dec_out_sequences])\n",
    "print(MAX_DEC_SEQ_LEN)\n",
    "\n",
    "dec_inp_sequences = pad_sequences(dec_inp_sequences, maxlen=MAX_DEC_SEQ_LEN, padding='post')\n",
    "dec_out_sequences = pad_sequences(dec_out_sequences, maxlen=MAX_DEC_SEQ_LEN, padding='post')"
   ]
  },
  {
   "cell_type": "code",
   "execution_count": 12,
   "metadata": {},
   "outputs": [
    {
     "data": {
      "text/plain": [
       "array([  1, 121,   0,   0,   0,   0,   0], dtype=int32)"
      ]
     },
     "execution_count": 12,
     "metadata": {},
     "output_type": "execute_result"
    }
   ],
   "source": [
    "dec_inp_sequences[0]"
   ]
  },
  {
   "cell_type": "markdown",
   "metadata": {},
   "source": [
    "### One-hoting the target outputs"
   ]
  },
  {
   "cell_type": "code",
   "execution_count": 13,
   "metadata": {},
   "outputs": [],
   "source": [
    "### Need to one-hot the targets because cannot use sparse-categorical-crossentropy for list of outputs\n",
    "one_hot_targets = np.zeros((len(dec_out_sequences), MAX_DEC_SEQ_LEN, dec_NUM_WORDS))\n",
    "\n",
    "for i, seq in enumerate(dec_out_sequences):\n",
    "    \n",
    "    for j, word_ind in enumerate(seq):\n",
    "        \n",
    "        one_hot_targets[i, j, word_ind] = 1"
   ]
  },
  {
   "cell_type": "code",
   "execution_count": 14,
   "metadata": {},
   "outputs": [
    {
     "data": {
      "text/plain": [
       "(1000, 7, 1015)"
      ]
     },
     "execution_count": 14,
     "metadata": {},
     "output_type": "execute_result"
    }
   ],
   "source": [
    "one_hot_targets.shape"
   ]
  },
  {
   "cell_type": "markdown",
   "metadata": {},
   "source": [
    "### Prepare embeddings"
   ]
  },
  {
   "cell_type": "code",
   "execution_count": 15,
   "metadata": {},
   "outputs": [
    {
     "name": "stdout",
     "output_type": "stream",
     "text": [
      "400000\n"
     ]
    }
   ],
   "source": [
    "word2vec = {}\n",
    "for line in open('glove.6B/glove.6B.{0}d.txt'.format(EMBEDDING_DIM)):\n",
    "    temp = line.strip().split(' ')\n",
    "    word = temp[0]\n",
    "    arr = np.asarray(temp[1:], dtype='float16')\n",
    "    word2vec[word] = arr\n",
    "\n",
    "print(len(word2vec))"
   ]
  },
  {
   "cell_type": "code",
   "execution_count": 16,
   "metadata": {},
   "outputs": [],
   "source": [
    "# word2vec['is']"
   ]
  },
  {
   "cell_type": "code",
   "execution_count": 17,
   "metadata": {},
   "outputs": [
    {
     "name": "stdout",
     "output_type": "stream",
     "text": [
      "(379, 50)\n"
     ]
    }
   ],
   "source": [
    "embedding_matrix = np.zeros((en_NUM_WORDS, EMBEDDING_DIM))\n",
    "for k, i in en_word2ind.items():\n",
    "\n",
    "    if i < MAX_VOCAB_SIZE:\n",
    "        embedding_vector = word2vec.get(k)\n",
    "        \n",
    "        if embedding_vector is not None:\n",
    "            embedding_matrix[i] = embedding_vector\n",
    "            \n",
    "print(embedding_matrix.shape)"
   ]
  },
  {
   "cell_type": "markdown",
   "metadata": {},
   "source": [
    "### Model"
   ]
  },
  {
   "cell_type": "code",
   "execution_count": 18,
   "metadata": {},
   "outputs": [],
   "source": [
    "LATENT_DIM = 15\n",
    "EN_LATENT_DIM = LATENT_DIM\n",
    "DEC_LATENT_DIM = LATENT_DIM*2\n",
    "\n",
    "Tx = MAX_ENC_SEQ_LEN\n",
    "Ty = MAX_DEC_SEQ_LEN"
   ]
  },
  {
   "cell_type": "code",
   "execution_count": 19,
   "metadata": {},
   "outputs": [
    {
     "name": "stdout",
     "output_type": "stream",
     "text": [
      "WARNING:tensorflow:From /Users/aishwaryamalgonde/Aishwarya/venv/lib/python3.7/site-packages/keras/backend/tensorflow_backend.py:71: The name tf.get_default_graph is deprecated. Please use tf.compat.v1.get_default_graph instead.\n",
      "\n",
      "WARNING:tensorflow:From /Users/aishwaryamalgonde/Aishwarya/venv/lib/python3.7/site-packages/keras/backend/tensorflow_backend.py:514: The name tf.placeholder is deprecated. Please use tf.compat.v1.placeholder instead.\n",
      "\n",
      "WARNING:tensorflow:From /Users/aishwaryamalgonde/Aishwarya/venv/lib/python3.7/site-packages/keras/backend/tensorflow_backend.py:4076: The name tf.random_uniform is deprecated. Please use tf.random.uniform instead.\n",
      "\n",
      "WARNING:tensorflow:From /Users/aishwaryamalgonde/Aishwarya/venv/lib/python3.7/site-packages/keras/backend/tensorflow_backend.py:171: The name tf.get_default_session is deprecated. Please use tf.compat.v1.get_default_session instead.\n",
      "\n",
      "WARNING:tensorflow:From /Users/aishwaryamalgonde/Aishwarya/venv/lib/python3.7/site-packages/keras/backend/tensorflow_backend.py:178: The name tf.ConfigProto is deprecated. Please use tf.compat.v1.ConfigProto instead.\n",
      "\n"
     ]
    }
   ],
   "source": [
    "### ENCODER ###\n",
    "## create the embedding_layer\n",
    "en_embedding_layer = Embedding(input_dim=en_NUM_WORDS, output_dim=EMBEDDING_DIM, weights=[embedding_matrix])\n",
    "\n",
    "en_input = Input(shape=(MAX_ENC_SEQ_LEN, ))\n",
    "x = en_embedding_layer(en_input)\n",
    "\n",
    "en_lstm = Bidirectional(LSTM(EN_LATENT_DIM, return_sequences=True)) # return_state=True\n",
    "en_o = en_lstm(x)#, initial_state = [initial_h, initial_c])"
   ]
  },
  {
   "cell_type": "code",
   "execution_count": 20,
   "metadata": {},
   "outputs": [],
   "source": [
    "def softmax_axis1(x):\n",
    "    return softmax(x, axis=1)"
   ]
  },
  {
   "cell_type": "code",
   "execution_count": 21,
   "metadata": {},
   "outputs": [],
   "source": [
    "### Concatenating ENCODER output and DECODER initial state\n",
    "attn_repeat_layer = RepeatVector(Tx)\n",
    "attn_concat_layer = Concatenate(axis=-1)\n",
    "\n",
    "attn_nn_dense1 = Dense(10, activation='tanh')\n",
    "attn_nn_dense2 = Dense(1, activation=softmax_axis1)\n",
    "\n",
    "attn_dot = Dot(axes=1)\n",
    "\n",
    "def one_step_attn(h, st_0):\n",
    "    \n",
    "    st_0 = attn_repeat_layer(st_0)\n",
    "    x = attn_concat_layer([h, st_0])\n",
    "    \n",
    "    x = attn_nn_dense1(x)\n",
    "    alphas = attn_nn_dense2(x)\n",
    "    \n",
    "    context = attn_dot([alphas, h])\n",
    "    \n",
    "    return context, alphas"
   ]
  },
  {
   "cell_type": "code",
   "execution_count": 22,
   "metadata": {},
   "outputs": [],
   "source": [
    "### DECODER ###\n",
    "dec_embedding_layer = Embedding(input_dim=dec_NUM_WORDS, output_dim=EMBEDDING_DIM)#, weights=[embedding_matrix])\n",
    "\n",
    "dec_input = Input(shape=(MAX_DEC_SEQ_LEN, ))\n",
    "dec_input_x = dec_embedding_layer(dec_input)\n",
    "\n",
    "dec_lstm = LSTM(DEC_LATENT_DIM, return_state=True)#, return_sequences=True)\n",
    "dec_dense = Dense(dec_NUM_WORDS, activation='softmax')\n",
    "\n",
    "initial_h = Input(shape=(DEC_LATENT_DIM, ))\n",
    "initial_c = Input(shape=(DEC_LATENT_DIM, ))\n",
    "\n",
    "context_concat = Concatenate(axis=2)\n",
    "\n",
    "outputs = []\n",
    "s = initial_h\n",
    "c = initial_c\n",
    "for t in range(Ty):\n",
    "    context, _ = one_step_attn(en_o, s)\n",
    "    \n",
    "    selector = Lambda(lambda x: x[:, t:t+1])\n",
    "    xt = selector(dec_input_x)\n",
    "    \n",
    "    decoder_lstm_input = context_concat([context, xt])\n",
    "    \n",
    "    y, s, c = dec_lstm(decoder_lstm_input, initial_state=[s, c])\n",
    "    dec_output = dec_dense(y)\n",
    "    \n",
    "    outputs.append(dec_output)"
   ]
  },
  {
   "cell_type": "code",
   "execution_count": 23,
   "metadata": {},
   "outputs": [],
   "source": [
    "# READ\n",
    "# 'outputs' is a list of length Ty\n",
    "# each element of shape (batch_size-N x output vocab size-D)\n",
    "# if we stack all outputs into 1 tensor\n",
    "# it would be of shape (Ty x N x D)\n",
    "# we want output as N x Ty x D\n",
    "\n",
    "def stack_and_transpose(x):\n",
    "    x = K.stack(x)                                   # it would be of shape (Ty x N x D)\n",
    "    x = K.permute_dimensions(x, pattern=(1,0,2))     # we want output as N x Ty x D\n",
    "    return x\n",
    "\n",
    "stacker = Lambda(stack_and_transpose)\n",
    "outputs = stacker(outputs)"
   ]
  },
  {
   "cell_type": "code",
   "execution_count": 24,
   "metadata": {},
   "outputs": [
    {
     "name": "stdout",
     "output_type": "stream",
     "text": [
      "WARNING:tensorflow:From /Users/aishwaryamalgonde/Aishwarya/venv/lib/python3.7/site-packages/keras/optimizers.py:757: The name tf.train.Optimizer is deprecated. Please use tf.compat.v1.train.Optimizer instead.\n",
      "\n"
     ]
    }
   ],
   "source": [
    "model = Model([en_input, dec_input, initial_h, initial_c], outputs)\n",
    "\n",
    "model.compile(loss='categorical_crossentropy',\n",
    "              optimizer=Adam(lr=0.01),\n",
    "              metrics=['accuracy'])"
   ]
  },
  {
   "cell_type": "code",
   "execution_count": 25,
   "metadata": {},
   "outputs": [
    {
     "name": "stdout",
     "output_type": "stream",
     "text": [
      "WARNING:tensorflow:From /Users/aishwaryamalgonde/Aishwarya/venv/lib/python3.7/site-packages/tensorflow/python/ops/math_grad.py:1250: add_dispatch_support.<locals>.wrapper (from tensorflow.python.ops.array_ops) is deprecated and will be removed in a future version.\n",
      "Instructions for updating:\n",
      "Use tf.where in 2.0, which has the same broadcast rule as np.where\n",
      "Train on 800 samples, validate on 200 samples\n",
      "Epoch 1/20\n",
      "800/800 [==============================] - 8s 10ms/step - loss: 2.5229 - acc: 0.6584 - val_loss: 2.4348 - val_acc: 0.6764\n",
      "Epoch 2/20\n",
      "800/800 [==============================] - 3s 4ms/step - loss: 1.7639 - acc: 0.7279 - val_loss: 2.6198 - val_acc: 0.6764\n",
      "Epoch 3/20\n",
      "800/800 [==============================] - 2s 3ms/step - loss: 1.6557 - acc: 0.7354 - val_loss: 2.6679 - val_acc: 0.6664\n",
      "Epoch 4/20\n",
      "800/800 [==============================] - 2s 3ms/step - loss: 1.5951 - acc: 0.7427 - val_loss: 2.7627 - val_acc: 0.6650\n",
      "Epoch 5/20\n",
      "800/800 [==============================] - 2s 3ms/step - loss: 1.5554 - acc: 0.7420 - val_loss: 2.7776 - val_acc: 0.6564\n",
      "Epoch 6/20\n",
      "800/800 [==============================] - 2s 3ms/step - loss: 1.5111 - acc: 0.7448 - val_loss: 2.6623 - val_acc: 0.6729\n",
      "Epoch 7/20\n",
      "800/800 [==============================] - 2s 3ms/step - loss: 1.4597 - acc: 0.7452 - val_loss: 2.7004 - val_acc: 0.6521\n",
      "Epoch 8/20\n",
      "800/800 [==============================] - 2s 3ms/step - loss: 1.4144 - acc: 0.7505 - val_loss: 2.7907 - val_acc: 0.6421\n",
      "Epoch 9/20\n",
      "800/800 [==============================] - 2s 3ms/step - loss: 1.3685 - acc: 0.7563 - val_loss: 2.8735 - val_acc: 0.6464\n",
      "Epoch 10/20\n",
      "800/800 [==============================] - 3s 3ms/step - loss: 1.3283 - acc: 0.7600 - val_loss: 2.9831 - val_acc: 0.6407\n",
      "Epoch 11/20\n",
      "800/800 [==============================] - 2s 3ms/step - loss: 1.2939 - acc: 0.7618 - val_loss: 3.0067 - val_acc: 0.6164\n",
      "Epoch 12/20\n",
      "800/800 [==============================] - 2s 3ms/step - loss: 1.2520 - acc: 0.7657 - val_loss: 2.7337 - val_acc: 0.6586\n",
      "Epoch 13/20\n",
      "800/800 [==============================] - 2s 3ms/step - loss: 1.2143 - acc: 0.7686 - val_loss: 2.8990 - val_acc: 0.6521\n",
      "Epoch 14/20\n",
      "800/800 [==============================] - 2s 3ms/step - loss: 1.1754 - acc: 0.7752 - val_loss: 2.9761 - val_acc: 0.6364\n",
      "Epoch 15/20\n",
      "800/800 [==============================] - 2s 3ms/step - loss: 1.1398 - acc: 0.7786 - val_loss: 2.9899 - val_acc: 0.6421\n",
      "Epoch 16/20\n",
      "800/800 [==============================] - 2s 3ms/step - loss: 1.1075 - acc: 0.7832 - val_loss: 3.1353 - val_acc: 0.6271\n",
      "Epoch 17/20\n",
      "800/800 [==============================] - 3s 4ms/step - loss: 1.0767 - acc: 0.7873 - val_loss: 3.1397 - val_acc: 0.6343\n",
      "Epoch 18/20\n",
      "800/800 [==============================] - 3s 3ms/step - loss: 1.0412 - acc: 0.7889 - val_loss: 3.2279 - val_acc: 0.6279\n",
      "Epoch 19/20\n",
      "800/800 [==============================] - 2s 3ms/step - loss: 1.0142 - acc: 0.7900 - val_loss: 3.2812 - val_acc: 0.6307\n",
      "Epoch 20/20\n",
      "800/800 [==============================] - 2s 3ms/step - loss: 0.9886 - acc: 0.7961 - val_loss: 3.3523 - val_acc: 0.6250\n"
     ]
    },
    {
     "data": {
      "text/plain": [
       "<keras.callbacks.History at 0x14255bd50>"
      ]
     },
     "execution_count": 25,
     "metadata": {},
     "output_type": "execute_result"
    }
   ],
   "source": [
    "z = np.zeros((NUM_SAMPLES, DEC_LATENT_DIM))\n",
    "model.fit([en_sequences, dec_inp_sequences, z, z],\n",
    "          one_hot_targets,\n",
    "          epochs=20,\n",
    "          batch_size=5,\n",
    "          validation_split=VALIDATION_SPLIT)"
   ]
  },
  {
   "cell_type": "markdown",
   "metadata": {},
   "source": [
    "### Making the predictions"
   ]
  },
  {
   "cell_type": "code",
   "execution_count": 33,
   "metadata": {},
   "outputs": [],
   "source": [
    "encoder_model = Model(en_input, en_o)\n",
    "\n",
    "dec_input_single = Input(shape=(1, ))\n",
    "dec_input_single_x = dec_embedding_layer(dec_input_single)\n",
    "\n",
    "en_output_as_input = Input(shape=(MAX_ENC_SEQ_LEN, DEC_LATENT_DIM,))\n",
    "context, alphas_pred = one_step_attn(en_output_as_input, initial_h)\n",
    "\n",
    "dec_input = context_concat([context, dec_input_single_x])\n",
    "\n",
    "dec_op, dec_h, dec_c = dec_lstm(dec_input, initial_state = [initial_h, initial_c])\n",
    "dec_output = dec_dense(dec_op)\n",
    "\n",
    "decoder_model = Model([en_output_as_input, dec_input_single, initial_h, initial_c], [dec_output, dec_h, dec_c])\n",
    "decoder_model_attn = Model([en_output_as_input, dec_input_single, initial_h, initial_c], alphas_pred)"
   ]
  },
  {
   "cell_type": "code",
   "execution_count": 27,
   "metadata": {},
   "outputs": [
    {
     "data": {
      "text/plain": [
       "1014"
      ]
     },
     "execution_count": 27,
     "metadata": {},
     "output_type": "execute_result"
    }
   ],
   "source": [
    "dec_ind2word = {v:k for k, v in dec_word2ind.items()}\n",
    "len(dec_ind2word)"
   ]
  },
  {
   "cell_type": "code",
   "execution_count": 28,
   "metadata": {},
   "outputs": [
    {
     "data": {
      "text/plain": [
       "378"
      ]
     },
     "execution_count": 28,
     "metadata": {},
     "output_type": "execute_result"
    }
   ],
   "source": [
    "en_ind2word = {v:k for k, v in en_word2ind.items()}\n",
    "len(en_ind2word)"
   ]
  },
  {
   "cell_type": "code",
   "execution_count": 83,
   "metadata": {},
   "outputs": [],
   "source": [
    "def translate():\n",
    "    \n",
    "    i = np.random.choice(len(en_sequences))\n",
    "    input_seq = en_sequences[i:i+1]\n",
    "    print('Input seq:', input_seq)\n",
    "    input_text = ' '.join([en_ind2word.get(w) for w in input_seq[0] if w>0])\n",
    "    print('Input seq:', input_text)\n",
    "    \n",
    "    en_output_pred = encoder_model.predict(input_seq)\n",
    "    h = np.zeros((1, DEC_LATENT_DIM))\n",
    "    c = np.zeros((1, DEC_LATENT_DIM))\n",
    "    \n",
    "    sos = dec_word2ind['<sos>']\n",
    "    dec_start = np.array([[sos]])\n",
    "    \n",
    "    eos = dec_word2ind['<eos>']\n",
    "    \n",
    "    generated_output = []\n",
    "    all_alphas = []\n",
    "    \n",
    "    for _ in range(MAX_DEC_SEQ_LEN):\n",
    "        p, h, c = decoder_model.predict([en_output_pred, dec_start, h, c])\n",
    "        gen_alphas = decoder_model_attn.predict([en_output_pred, dec_start, h, c])\n",
    "        \n",
    "        # probabilties\n",
    "        probs = p[0]\n",
    "        index = np.argmax(probs)\n",
    "        \n",
    "        # if probabilty of <sos> is high then it prints a warning\n",
    "        if index == sos:\n",
    "            print('wtf')\n",
    "        \n",
    "        if index == eos:\n",
    "            break\n",
    "\n",
    "        generated_output.append(dec_ind2word.get(index, '<WTF> %s'% index))\n",
    "        dec_start[0][0] = index\n",
    "        all_alphas.append(gen_alphas)\n",
    "    \n",
    "    return ' '.join(generated_output), all_alphas, input_text"
   ]
  },
  {
   "cell_type": "code",
   "execution_count": 105,
   "metadata": {
    "scrolled": true
   },
   "outputs": [
    {
     "name": "stdout",
     "output_type": "stream",
     "text": [
      "Input seq: [[ 1 39  8]]\n",
      "Input seq: i saw you\n",
      "Output text: me he mudado.\n"
     ]
    }
   ],
   "source": [
    "output_text, all_alphas, input_text = translate()\n",
    "print('Output text:', output_text)"
   ]
  },
  {
   "cell_type": "markdown",
   "metadata": {},
   "source": [
    "### Displaying Attention weights"
   ]
  },
  {
   "cell_type": "code",
   "execution_count": 106,
   "metadata": {},
   "outputs": [
    {
     "data": {
      "text/plain": [
       "((3, 3), array([[0.23246102, 0.3741106 , 0.2541163 ],\n",
       "        [0.6331667 , 0.32503998, 0.58894074],\n",
       "        [0.13437237, 0.30084944, 0.15694298]], dtype=float32))"
      ]
     },
     "execution_count": 106,
     "metadata": {},
     "output_type": "execute_result"
    }
   ],
   "source": [
    "b = np.concatenate(all_alphas, axis=2)[0]\n",
    "b.shape, b"
   ]
  },
  {
   "cell_type": "code",
   "execution_count": 107,
   "metadata": {
    "scrolled": true
   },
   "outputs": [
    {
     "data": {
      "image/png": "[encoded data removed]",
      "text/plain": [
       "<Figure size 432x288 with 1 Axes>"
      ]
     },
     "metadata": {
      "needs_background": "light"
     },
     "output_type": "display_data"
    }
   ],
   "source": [
    "import matplotlib.pyplot as plt\n",
    "import numpy as np\n",
    "\n",
    "# a = np.random.random((16, 16))\n",
    "plt.imshow(b, cmap='hot', interpolation='nearest')\n",
    "plt.show()"
   ]
  },
  {
   "cell_type": "code",
   "execution_count": 118,
   "metadata": {},
   "outputs": [
    {
     "data": {
      "text/plain": [
       "<Figure size 3600x3600 with 0 Axes>"
      ]
     },
     "execution_count": 118,
     "metadata": {},
     "output_type": "execute_result"
    },
    {
     "data": {
      "image/png": "[encoded data removed]",
      "text/plain": [
       "<Figure size 432x288 with 1 Axes>"
      ]
     },
     "metadata": {
      "needs_background": "light"
     },
     "output_type": "display_data"
    },
    {
     "data": {
      "text/plain": [
       "<Figure size 3600x3600 with 0 Axes>"
      ]
     },
     "metadata": {},
     "output_type": "display_data"
    }
   ],
   "source": [
    "my_xticks = output_text.split(' ')\n",
    "my_yticks = input_text.split(' ')\n",
    "# plt.xticks(my_xticks)\n",
    "\n",
    "fig, ax = plt.subplots()\n",
    "im = ax.imshow(b, cmap='gray')\n",
    "\n",
    "# We want to show all ticks...\n",
    "ax.set_xticks(np.arange(len(my_xticks)))\n",
    "ax.set_yticks(np.arange(len(my_yticks)))\n",
    "# ... and label them with the respective list entries\n",
    "ax.set_xticklabels(my_xticks)\n",
    "ax.set_yticklabels(my_yticks)\n",
    "\n",
    "# Rotate the tick labels and set their alignment.\n",
    "plt.setp(ax.get_xticklabels(), rotation=45, ha=\"right\",\n",
    "         rotation_mode=\"anchor\")\n",
    "# plt.setp(ax.get_yticklabels(),)\n",
    "\n",
    "# Loop over data dimensions and create text annotations.\n",
    "for i in range(len(my_yticks)):\n",
    "    for j in range(len(my_xticks)):\n",
    "        text = ax.text(j, i, b[i, j],\n",
    "                       ha=\"center\", va=\"center\", color='r')\n",
    "plt.figure(figsize=(50,50))"
   ]
  },
  {
   "cell_type": "code",
   "execution_count": 92,
   "metadata": {},
   "outputs": [
    {
     "data": {
      "text/plain": [
       "(16, 16)"
      ]
     },
     "execution_count": 92,
     "metadata": {},
     "output_type": "execute_result"
    }
   ],
   "source": [
    "(a.shape)"
   ]
  },
  {
   "cell_type": "code",
   "execution_count": 157,
   "metadata": {},
   "outputs": [],
   "source": [
    "def calc_storage(file_size):\n",
    "    block_size = 4096\n",
    "\n",
    "    full_blocks = file_size//block_size\n",
    "    p = file_size%block_size\n",
    "    \n",
    "    return block_size * (full_blocks + min(1, p))"
   ]
  },
  {
   "cell_type": "code",
   "execution_count": 162,
   "metadata": {},
   "outputs": [
    {
     "name": "stdout",
     "output_type": "stream",
     "text": [
      "4096\n",
      "4096\n",
      "8192\n",
      "8192\n"
     ]
    }
   ],
   "source": [
    "print(calc_storage(1))\n",
    "print(calc_storage(4096))\n",
    "print(calc_storage(4097))\n",
    "print(calc_storage(6000))"
   ]
  },
  {
   "cell_type": "code",
   "execution_count": null,
   "metadata": {},
   "outputs": [],
   "source": []
  }
 ],
 "metadata": {
  "kernelspec": {
   "display_name": "Python 3",
   "language": "python",
   "name": "python3"
  },
  "language_info": {
   "codemirror_mode": {
    "name": "ipython",
    "version": 3
   },
   "file_extension": ".py",
   "mimetype": "text/x-python",
   "name": "python",
   "nbconvert_exporter": "python",
   "pygments_lexer": "ipython3",
   "version": "3.7.7"
  }
 },
 "nbformat": 4,
 "nbformat_minor": 2
}
